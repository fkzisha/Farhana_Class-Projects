{
 "cells": [
  {
   "cell_type": "markdown",
   "id": "2d8426c8",
   "metadata": {},
   "source": [
    "# **Reading the California fertility clinic data file**"
   ]
  },
  {
   "cell_type": "code",
   "execution_count": 5,
   "id": "ca1e14c1",
   "metadata": {},
   "outputs": [],
   "source": [
    "# path of the file\n",
    "myfile=r'C:/2. Spring 2023/Python/5 EDA Group/'"
   ]
  },
  {
   "cell_type": "code",
   "execution_count": 6,
   "id": "ab71c356",
   "metadata": {},
   "outputs": [
    {
     "ename": "FileNotFoundError",
     "evalue": "[Errno 2] No such file or directory: 'C:/2. Spring 2023/Python/5 EDA Group/floods.xlsx'",
     "output_type": "error",
     "traceback": [
      "\u001b[1;31m---------------------------------------------------------------------------\u001b[0m",
      "\u001b[1;31mFileNotFoundError\u001b[0m                         Traceback (most recent call last)",
      "\u001b[1;32m<ipython-input-6-5e2d55bc9d61>\u001b[0m in \u001b[0;36m<module>\u001b[1;34m\u001b[0m\n\u001b[0;32m      3\u001b[0m \u001b[1;33m\u001b[0m\u001b[0m\n\u001b[0;32m      4\u001b[0m \u001b[1;31m# read excell file using pandas\u001b[0m\u001b[1;33m\u001b[0m\u001b[1;33m\u001b[0m\u001b[0m\n\u001b[1;32m----> 5\u001b[1;33m \u001b[0mclinic\u001b[0m \u001b[1;33m=\u001b[0m \u001b[0mpd\u001b[0m\u001b[1;33m.\u001b[0m\u001b[0mread_excel\u001b[0m\u001b[1;33m(\u001b[0m\u001b[0mmyfile\u001b[0m \u001b[1;33m+\u001b[0m \u001b[1;34m'floods.xlsx'\u001b[0m\u001b[1;33m)\u001b[0m\u001b[1;33m\u001b[0m\u001b[1;33m\u001b[0m\u001b[0m\n\u001b[0m\u001b[0;32m      6\u001b[0m \u001b[0mlist\u001b[0m\u001b[1;33m(\u001b[0m\u001b[0mclinic\u001b[0m\u001b[1;33m)\u001b[0m\u001b[1;33m\u001b[0m\u001b[1;33m\u001b[0m\u001b[0m\n",
      "\u001b[1;32mC:\\Program Files\\ArcGIS\\Pro\\bin\\Python\\envs\\arcgispro-py3\\lib\\site-packages\\pandas\\util\\_decorators.py\u001b[0m in \u001b[0;36mwrapper\u001b[1;34m(*args, **kwargs)\u001b[0m\n\u001b[0;32m    309\u001b[0m                     \u001b[0mstacklevel\u001b[0m\u001b[1;33m=\u001b[0m\u001b[0mstacklevel\u001b[0m\u001b[1;33m,\u001b[0m\u001b[1;33m\u001b[0m\u001b[1;33m\u001b[0m\u001b[0m\n\u001b[0;32m    310\u001b[0m                 )\n\u001b[1;32m--> 311\u001b[1;33m             \u001b[1;32mreturn\u001b[0m \u001b[0mfunc\u001b[0m\u001b[1;33m(\u001b[0m\u001b[1;33m*\u001b[0m\u001b[0margs\u001b[0m\u001b[1;33m,\u001b[0m \u001b[1;33m**\u001b[0m\u001b[0mkwargs\u001b[0m\u001b[1;33m)\u001b[0m\u001b[1;33m\u001b[0m\u001b[1;33m\u001b[0m\u001b[0m\n\u001b[0m\u001b[0;32m    312\u001b[0m \u001b[1;33m\u001b[0m\u001b[0m\n\u001b[0;32m    313\u001b[0m         \u001b[1;32mreturn\u001b[0m \u001b[0mwrapper\u001b[0m\u001b[1;33m\u001b[0m\u001b[1;33m\u001b[0m\u001b[0m\n",
      "\u001b[1;32mC:\\Program Files\\ArcGIS\\Pro\\bin\\Python\\envs\\arcgispro-py3\\lib\\site-packages\\pandas\\io\\excel\\_base.py\u001b[0m in \u001b[0;36mread_excel\u001b[1;34m(io, sheet_name, header, names, index_col, usecols, squeeze, dtype, engine, converters, true_values, false_values, skiprows, nrows, na_values, keep_default_na, na_filter, verbose, parse_dates, date_parser, thousands, comment, skipfooter, convert_float, mangle_dupe_cols, storage_options)\u001b[0m\n\u001b[0;32m    362\u001b[0m     \u001b[1;32mif\u001b[0m \u001b[1;32mnot\u001b[0m \u001b[0misinstance\u001b[0m\u001b[1;33m(\u001b[0m\u001b[0mio\u001b[0m\u001b[1;33m,\u001b[0m \u001b[0mExcelFile\u001b[0m\u001b[1;33m)\u001b[0m\u001b[1;33m:\u001b[0m\u001b[1;33m\u001b[0m\u001b[1;33m\u001b[0m\u001b[0m\n\u001b[0;32m    363\u001b[0m         \u001b[0mshould_close\u001b[0m \u001b[1;33m=\u001b[0m \u001b[1;32mTrue\u001b[0m\u001b[1;33m\u001b[0m\u001b[1;33m\u001b[0m\u001b[0m\n\u001b[1;32m--> 364\u001b[1;33m         \u001b[0mio\u001b[0m \u001b[1;33m=\u001b[0m \u001b[0mExcelFile\u001b[0m\u001b[1;33m(\u001b[0m\u001b[0mio\u001b[0m\u001b[1;33m,\u001b[0m \u001b[0mstorage_options\u001b[0m\u001b[1;33m=\u001b[0m\u001b[0mstorage_options\u001b[0m\u001b[1;33m,\u001b[0m \u001b[0mengine\u001b[0m\u001b[1;33m=\u001b[0m\u001b[0mengine\u001b[0m\u001b[1;33m)\u001b[0m\u001b[1;33m\u001b[0m\u001b[1;33m\u001b[0m\u001b[0m\n\u001b[0m\u001b[0;32m    365\u001b[0m     \u001b[1;32melif\u001b[0m \u001b[0mengine\u001b[0m \u001b[1;32mand\u001b[0m \u001b[0mengine\u001b[0m \u001b[1;33m!=\u001b[0m \u001b[0mio\u001b[0m\u001b[1;33m.\u001b[0m\u001b[0mengine\u001b[0m\u001b[1;33m:\u001b[0m\u001b[1;33m\u001b[0m\u001b[1;33m\u001b[0m\u001b[0m\n\u001b[0;32m    366\u001b[0m         raise ValueError(\n",
      "\u001b[1;32mC:\\Program Files\\ArcGIS\\Pro\\bin\\Python\\envs\\arcgispro-py3\\lib\\site-packages\\pandas\\io\\excel\\_base.py\u001b[0m in \u001b[0;36m__init__\u001b[1;34m(self, path_or_buffer, engine, storage_options)\u001b[0m\n\u001b[0;32m   1189\u001b[0m                 \u001b[0mext\u001b[0m \u001b[1;33m=\u001b[0m \u001b[1;34m\"xls\"\u001b[0m\u001b[1;33m\u001b[0m\u001b[1;33m\u001b[0m\u001b[0m\n\u001b[0;32m   1190\u001b[0m             \u001b[1;32melse\u001b[0m\u001b[1;33m:\u001b[0m\u001b[1;33m\u001b[0m\u001b[1;33m\u001b[0m\u001b[0m\n\u001b[1;32m-> 1191\u001b[1;33m                 ext = inspect_excel_format(\n\u001b[0m\u001b[0;32m   1192\u001b[0m                     \u001b[0mcontent_or_path\u001b[0m\u001b[1;33m=\u001b[0m\u001b[0mpath_or_buffer\u001b[0m\u001b[1;33m,\u001b[0m \u001b[0mstorage_options\u001b[0m\u001b[1;33m=\u001b[0m\u001b[0mstorage_options\u001b[0m\u001b[1;33m\u001b[0m\u001b[1;33m\u001b[0m\u001b[0m\n\u001b[0;32m   1193\u001b[0m                 )\n",
      "\u001b[1;32mC:\\Program Files\\ArcGIS\\Pro\\bin\\Python\\envs\\arcgispro-py3\\lib\\site-packages\\pandas\\io\\excel\\_base.py\u001b[0m in \u001b[0;36minspect_excel_format\u001b[1;34m(content_or_path, storage_options)\u001b[0m\n\u001b[0;32m   1068\u001b[0m         \u001b[0mcontent_or_path\u001b[0m \u001b[1;33m=\u001b[0m \u001b[0mBytesIO\u001b[0m\u001b[1;33m(\u001b[0m\u001b[0mcontent_or_path\u001b[0m\u001b[1;33m)\u001b[0m\u001b[1;33m\u001b[0m\u001b[1;33m\u001b[0m\u001b[0m\n\u001b[0;32m   1069\u001b[0m \u001b[1;33m\u001b[0m\u001b[0m\n\u001b[1;32m-> 1070\u001b[1;33m     with get_handle(\n\u001b[0m\u001b[0;32m   1071\u001b[0m         \u001b[0mcontent_or_path\u001b[0m\u001b[1;33m,\u001b[0m \u001b[1;34m\"rb\"\u001b[0m\u001b[1;33m,\u001b[0m \u001b[0mstorage_options\u001b[0m\u001b[1;33m=\u001b[0m\u001b[0mstorage_options\u001b[0m\u001b[1;33m,\u001b[0m \u001b[0mis_text\u001b[0m\u001b[1;33m=\u001b[0m\u001b[1;32mFalse\u001b[0m\u001b[1;33m\u001b[0m\u001b[1;33m\u001b[0m\u001b[0m\n\u001b[0;32m   1072\u001b[0m     ) as handle:\n",
      "\u001b[1;32mC:\\Program Files\\ArcGIS\\Pro\\bin\\Python\\envs\\arcgispro-py3\\lib\\site-packages\\pandas\\io\\common.py\u001b[0m in \u001b[0;36mget_handle\u001b[1;34m(path_or_buf, mode, encoding, compression, memory_map, is_text, errors, storage_options)\u001b[0m\n\u001b[0;32m    709\u001b[0m         \u001b[1;32melse\u001b[0m\u001b[1;33m:\u001b[0m\u001b[1;33m\u001b[0m\u001b[1;33m\u001b[0m\u001b[0m\n\u001b[0;32m    710\u001b[0m             \u001b[1;31m# Binary mode\u001b[0m\u001b[1;33m\u001b[0m\u001b[1;33m\u001b[0m\u001b[0m\n\u001b[1;32m--> 711\u001b[1;33m             \u001b[0mhandle\u001b[0m \u001b[1;33m=\u001b[0m \u001b[0mopen\u001b[0m\u001b[1;33m(\u001b[0m\u001b[0mhandle\u001b[0m\u001b[1;33m,\u001b[0m \u001b[0mioargs\u001b[0m\u001b[1;33m.\u001b[0m\u001b[0mmode\u001b[0m\u001b[1;33m)\u001b[0m\u001b[1;33m\u001b[0m\u001b[1;33m\u001b[0m\u001b[0m\n\u001b[0m\u001b[0;32m    712\u001b[0m         \u001b[0mhandles\u001b[0m\u001b[1;33m.\u001b[0m\u001b[0mappend\u001b[0m\u001b[1;33m(\u001b[0m\u001b[0mhandle\u001b[0m\u001b[1;33m)\u001b[0m\u001b[1;33m\u001b[0m\u001b[1;33m\u001b[0m\u001b[0m\n\u001b[0;32m    713\u001b[0m \u001b[1;33m\u001b[0m\u001b[0m\n",
      "\u001b[1;31mFileNotFoundError\u001b[0m: [Errno 2] No such file or directory: 'C:/2. Spring 2023/Python/5 EDA Group/floods.xlsx'"
     ]
    }
   ],
   "source": [
    "# import pandas\n",
    "import pandas as pd\n",
    "\n",
    "# read excell file using pandas\n",
    "clinic = pd.read_excel(myfile + 'floods.xlsx')\n",
    "list(clinic)"
   ]
  },
  {
   "cell_type": "markdown",
   "id": "ca6c6b1d",
   "metadata": {},
   "source": [
    "# **1) Checking whether there is any null value/missing data**"
   ]
  },
  {
   "cell_type": "code",
   "execution_count": 3,
   "id": "9dd9b0dd",
   "metadata": {},
   "outputs": [
    {
     "name": "stdout",
     "output_type": "stream",
     "text": [
      "<class 'pandas.core.frame.DataFrame'>\n",
      "RangeIndex: 71 entries, 0 to 70\n",
      "Data columns (total 7 columns):\n",
      " #   Column       Non-Null Count  Dtype  \n",
      "---  ------       --------------  -----  \n",
      " 0   ClinicID     71 non-null     int64  \n",
      " 1   Address      71 non-null     object \n",
      " 2   Long         71 non-null     float64\n",
      " 3    Lat         71 non-null     float64\n",
      " 4   State Code   71 non-null     int64  \n",
      " 5   County Code  71 non-null     int64  \n",
      " 6   Tract Code   71 non-null     int64  \n",
      "dtypes: float64(2), int64(4), object(1)\n",
      "memory usage: 4.0+ KB\n"
     ]
    }
   ],
   "source": [
    "# data overview\n",
    "\n",
    "clinic.info()"
   ]
  },
  {
   "cell_type": "code",
   "execution_count": 4,
   "id": "653af179",
   "metadata": {},
   "outputs": [
    {
     "data": {
      "text/html": [
       "<div>\n",
       "<style scoped>\n",
       "    .dataframe tbody tr th:only-of-type {\n",
       "        vertical-align: middle;\n",
       "    }\n",
       "\n",
       "    .dataframe tbody tr th {\n",
       "        vertical-align: top;\n",
       "    }\n",
       "\n",
       "    .dataframe thead th {\n",
       "        text-align: right;\n",
       "    }\n",
       "</style>\n",
       "<table border=\"1\" class=\"dataframe\">\n",
       "  <thead>\n",
       "    <tr style=\"text-align: right;\">\n",
       "      <th></th>\n",
       "      <th>ClinicID</th>\n",
       "      <th>Address</th>\n",
       "      <th>Long</th>\n",
       "      <th>Lat</th>\n",
       "      <th>State Code</th>\n",
       "      <th>County Code</th>\n",
       "      <th>Tract Code</th>\n",
       "    </tr>\n",
       "  </thead>\n",
       "  <tbody>\n",
       "    <tr>\n",
       "      <th>0</th>\n",
       "      <td>325</td>\n",
       "      <td>11370 ANDERSON ST, LOMA LINDA, CA, 92354</td>\n",
       "      <td>-117.261140</td>\n",
       "      <td>34.047215</td>\n",
       "      <td>6</td>\n",
       "      <td>71</td>\n",
       "      <td>7302</td>\n",
       "    </tr>\n",
       "    <tr>\n",
       "      <th>1</th>\n",
       "      <td>468</td>\n",
       "      <td>100 PARK PL, SAN RAMON, CA, 94583</td>\n",
       "      <td>-121.990890</td>\n",
       "      <td>37.772377</td>\n",
       "      <td>6</td>\n",
       "      <td>13</td>\n",
       "      <td>345202</td>\n",
       "    </tr>\n",
       "    <tr>\n",
       "      <th>2</th>\n",
       "      <td>318</td>\n",
       "      <td>101 ROWLAND WAY, NOVATO, CA, 94945</td>\n",
       "      <td>-122.558784</td>\n",
       "      <td>38.096916</td>\n",
       "      <td>6</td>\n",
       "      <td>41</td>\n",
       "      <td>101200</td>\n",
       "    </tr>\n",
       "    <tr>\n",
       "      <th>3</th>\n",
       "      <td>101</td>\n",
       "      <td>1060 MARSH RD, MENLO PARK, CA, 94025</td>\n",
       "      <td>-122.184875</td>\n",
       "      <td>37.479930</td>\n",
       "      <td>6</td>\n",
       "      <td>81</td>\n",
       "      <td>611700</td>\n",
       "    </tr>\n",
       "    <tr>\n",
       "      <th>4</th>\n",
       "      <td>136</td>\n",
       "      <td>10921 WILSHIRE BLVD, LOS ANGELES, CA, 90024</td>\n",
       "      <td>-118.444580</td>\n",
       "      <td>34.058598</td>\n",
       "      <td>6</td>\n",
       "      <td>37</td>\n",
       "      <td>265202</td>\n",
       "    </tr>\n",
       "    <tr>\n",
       "      <th>...</th>\n",
       "      <td>...</td>\n",
       "      <td>...</td>\n",
       "      <td>...</td>\n",
       "      <td>...</td>\n",
       "      <td>...</td>\n",
       "      <td>...</td>\n",
       "      <td>...</td>\n",
       "    </tr>\n",
       "    <tr>\n",
       "      <th>66</th>\n",
       "      <td>521</td>\n",
       "      <td>1 Daniel Burnham Ct, SAN FRANCISCO, CA, 94109</td>\n",
       "      <td>37.786755</td>\n",
       "      <td>-122.422491</td>\n",
       "      <td>6</td>\n",
       "      <td>6075</td>\n",
       "      <td>15100</td>\n",
       "    </tr>\n",
       "    <tr>\n",
       "      <th>67</th>\n",
       "      <td>524</td>\n",
       "      <td>1195 W. Fremont Ave, PALO ALTO, CA, 94087</td>\n",
       "      <td>37.353110</td>\n",
       "      <td>-122.062431</td>\n",
       "      <td>6</td>\n",
       "      <td>6085</td>\n",
       "      <td>510001</td>\n",
       "    </tr>\n",
       "    <tr>\n",
       "      <th>68</th>\n",
       "      <td>84</td>\n",
       "      <td>477 N. El Camino Real, ENCINITAS, CA, 92024</td>\n",
       "      <td>33.057114</td>\n",
       "      <td>-117.261477</td>\n",
       "      <td>6</td>\n",
       "      <td>6073</td>\n",
       "      <td>17108</td>\n",
       "    </tr>\n",
       "    <tr>\n",
       "      <th>69</th>\n",
       "      <td>198</td>\n",
       "      <td>203 N. Brea Blvd, BREA, CA, 92821</td>\n",
       "      <td>33.921864</td>\n",
       "      <td>-117.897953</td>\n",
       "      <td>6</td>\n",
       "      <td>6059</td>\n",
       "      <td>1503</td>\n",
       "    </tr>\n",
       "    <tr>\n",
       "      <th>70</th>\n",
       "      <td>463</td>\n",
       "      <td>510 N. Prospect Ave, REDONDO BEACH, CA, 90277</td>\n",
       "      <td>33.851956</td>\n",
       "      <td>-118.378629</td>\n",
       "      <td>6</td>\n",
       "      <td>6037</td>\n",
       "      <td>621201</td>\n",
       "    </tr>\n",
       "  </tbody>\n",
       "</table>\n",
       "<p>71 rows × 7 columns</p>\n",
       "</div>"
      ],
      "text/plain": [
       "    ClinicID                                        Address        Long  \\\n",
       "0        325       11370 ANDERSON ST, LOMA LINDA, CA, 92354 -117.261140   \n",
       "1        468              100 PARK PL, SAN RAMON, CA, 94583 -121.990890   \n",
       "2        318             101 ROWLAND WAY, NOVATO, CA, 94945 -122.558784   \n",
       "3        101           1060 MARSH RD, MENLO PARK, CA, 94025 -122.184875   \n",
       "4        136    10921 WILSHIRE BLVD, LOS ANGELES, CA, 90024 -118.444580   \n",
       "..       ...                                            ...         ...   \n",
       "66       521  1 Daniel Burnham Ct, SAN FRANCISCO, CA, 94109   37.786755   \n",
       "67       524      1195 W. Fremont Ave, PALO ALTO, CA, 94087   37.353110   \n",
       "68        84    477 N. El Camino Real, ENCINITAS, CA, 92024   33.057114   \n",
       "69       198              203 N. Brea Blvd, BREA, CA, 92821   33.921864   \n",
       "70       463  510 N. Prospect Ave, REDONDO BEACH, CA, 90277   33.851956   \n",
       "\n",
       "           Lat  State Code  County Code  Tract Code  \n",
       "0    34.047215           6           71        7302  \n",
       "1    37.772377           6           13      345202  \n",
       "2    38.096916           6           41      101200  \n",
       "3    37.479930           6           81      611700  \n",
       "4    34.058598           6           37      265202  \n",
       "..         ...         ...          ...         ...  \n",
       "66 -122.422491           6         6075       15100  \n",
       "67 -122.062431           6         6085      510001  \n",
       "68 -117.261477           6         6073       17108  \n",
       "69 -117.897953           6         6059        1503  \n",
       "70 -118.378629           6         6037      621201  \n",
       "\n",
       "[71 rows x 7 columns]"
      ]
     },
     "execution_count": 4,
     "metadata": {},
     "output_type": "execute_result"
    }
   ],
   "source": [
    "clinic.head(71)"
   ]
  },
  {
   "cell_type": "code",
   "execution_count": 5,
   "id": "d6756295",
   "metadata": {},
   "outputs": [
    {
     "data": {
      "text/plain": [
       "0    -117.261140\n",
       "1    -121.990890\n",
       "2    -122.558784\n",
       "3    -122.184875\n",
       "4    -118.444580\n",
       "         ...    \n",
       "66     37.786755\n",
       "67     37.353110\n",
       "68     33.057114\n",
       "69     33.921864\n",
       "70     33.851956\n",
       "Name: Long, Length: 71, dtype: float64"
      ]
     },
     "execution_count": 5,
     "metadata": {},
     "output_type": "execute_result"
    }
   ],
   "source": [
    "#Column Selection\n",
    "clinic['Long']"
   ]
  },
  {
   "cell_type": "code",
   "execution_count": 6,
   "id": "6848f84a",
   "metadata": {},
   "outputs": [
    {
     "data": {
      "text/plain": [
       "0     6\n",
       "1     6\n",
       "2     6\n",
       "3     6\n",
       "4     6\n",
       "     ..\n",
       "66    6\n",
       "67    6\n",
       "68    6\n",
       "69    6\n",
       "70    6\n",
       "Name: State Code, Length: 71, dtype: int64"
      ]
     },
     "execution_count": 6,
     "metadata": {},
     "output_type": "execute_result"
    }
   ],
   "source": [
    "clinic['State Code']"
   ]
  },
  {
   "cell_type": "code",
   "execution_count": 7,
   "id": "3ca9ec5b",
   "metadata": {},
   "outputs": [
    {
     "data": {
      "text/plain": [
       "0          11370 ANDERSON ST, LOMA LINDA, CA, 92354\n",
       "1                 100 PARK PL, SAN RAMON, CA, 94583\n",
       "2                101 ROWLAND WAY, NOVATO, CA, 94945\n",
       "3              1060 MARSH RD, MENLO PARK, CA, 94025\n",
       "4       10921 WILSHIRE BLVD, LOS ANGELES, CA, 90024\n",
       "                          ...                      \n",
       "66    1 Daniel Burnham Ct, SAN FRANCISCO, CA, 94109\n",
       "67        1195 W. Fremont Ave, PALO ALTO, CA, 94087\n",
       "68      477 N. El Camino Real, ENCINITAS, CA, 92024\n",
       "69                203 N. Brea Blvd, BREA, CA, 92821\n",
       "70    510 N. Prospect Ave, REDONDO BEACH, CA, 90277\n",
       "Name: Address, Length: 71, dtype: object"
      ]
     },
     "execution_count": 7,
     "metadata": {},
     "output_type": "execute_result"
    }
   ],
   "source": [
    "clinic['Address']"
   ]
  },
  {
   "cell_type": "code",
   "execution_count": 8,
   "id": "903eb68e",
   "metadata": {},
   "outputs": [
    {
     "data": {
      "text/plain": [
       "0      34.047215\n",
       "1      37.772377\n",
       "2      38.096916\n",
       "3      37.479930\n",
       "4      34.058598\n",
       "         ...    \n",
       "66   -122.422491\n",
       "67   -122.062431\n",
       "68   -117.261477\n",
       "69   -117.897953\n",
       "70   -118.378629\n",
       "Name:  Lat, Length: 71, dtype: float64"
      ]
     },
     "execution_count": 8,
     "metadata": {},
     "output_type": "execute_result"
    }
   ],
   "source": [
    "clinic[' Lat']"
   ]
  },
  {
   "cell_type": "markdown",
   "id": "90a31b15",
   "metadata": {},
   "source": [
    "**Findings: No null/missing values.But there are discrepencies in the latitudes (some are positive) and longitudes (some are negative).**"
   ]
  },
  {
   "cell_type": "markdown",
   "id": "6686cdfc",
   "metadata": {},
   "source": [
    "# Fixing the Problem of Fipping the Lat & Long"
   ]
  },
  {
   "cell_type": "code",
   "execution_count": 54,
   "id": "57531308",
   "metadata": {},
   "outputs": [],
   "source": [
    "myfile=r'C:/2. Spring 2023/Python/5 EDA Group/'\n",
    "clinic = pd.read_excel(myfile + 'ARTClinicData_GISClass_CAOnly.xlsx')\n",
    "\n",
    "# Check if latitude and longitude are flipped\n",
    "flip_mask = clinic['Long'] > clinic[' Lat']\n",
    "\n",
    "# Swap latitude and longitude values where they are flipped\n",
    "clinic.loc[flip_mask, ['Long', ' Lat']] = clinic.loc[flip_mask, [' Lat', 'Long']].values\n",
    "\n",
    "# Write the updated dataframe to a new Excel file\n",
    "clinic.to_excel('Downloads/fixed_file.xlsx', index=False)"
   ]
  },
  {
   "cell_type": "code",
   "execution_count": 56,
   "id": "8b6c2068",
   "metadata": {},
   "outputs": [
    {
     "data": {
      "text/html": [
       "<div>\n",
       "<style scoped>\n",
       "    .dataframe tbody tr th:only-of-type {\n",
       "        vertical-align: middle;\n",
       "    }\n",
       "\n",
       "    .dataframe tbody tr th {\n",
       "        vertical-align: top;\n",
       "    }\n",
       "\n",
       "    .dataframe thead th {\n",
       "        text-align: right;\n",
       "    }\n",
       "</style>\n",
       "<table border=\"1\" class=\"dataframe\">\n",
       "  <thead>\n",
       "    <tr style=\"text-align: right;\">\n",
       "      <th></th>\n",
       "      <th>ClinicID</th>\n",
       "      <th>Address</th>\n",
       "      <th>Long</th>\n",
       "      <th>Lat</th>\n",
       "      <th>State Code</th>\n",
       "      <th>County Code</th>\n",
       "      <th>Tract Code</th>\n",
       "    </tr>\n",
       "  </thead>\n",
       "  <tbody>\n",
       "    <tr>\n",
       "      <th>0</th>\n",
       "      <td>325</td>\n",
       "      <td>11370 ANDERSON ST, LOMA LINDA, CA, 92354</td>\n",
       "      <td>-117.261140</td>\n",
       "      <td>34.047215</td>\n",
       "      <td>6</td>\n",
       "      <td>71</td>\n",
       "      <td>7302</td>\n",
       "    </tr>\n",
       "    <tr>\n",
       "      <th>1</th>\n",
       "      <td>468</td>\n",
       "      <td>100 PARK PL, SAN RAMON, CA, 94583</td>\n",
       "      <td>-121.990890</td>\n",
       "      <td>37.772377</td>\n",
       "      <td>6</td>\n",
       "      <td>13</td>\n",
       "      <td>345202</td>\n",
       "    </tr>\n",
       "    <tr>\n",
       "      <th>2</th>\n",
       "      <td>318</td>\n",
       "      <td>101 ROWLAND WAY, NOVATO, CA, 94945</td>\n",
       "      <td>-122.558784</td>\n",
       "      <td>38.096916</td>\n",
       "      <td>6</td>\n",
       "      <td>41</td>\n",
       "      <td>101200</td>\n",
       "    </tr>\n",
       "    <tr>\n",
       "      <th>3</th>\n",
       "      <td>101</td>\n",
       "      <td>1060 MARSH RD, MENLO PARK, CA, 94025</td>\n",
       "      <td>-122.184875</td>\n",
       "      <td>37.479930</td>\n",
       "      <td>6</td>\n",
       "      <td>81</td>\n",
       "      <td>611700</td>\n",
       "    </tr>\n",
       "    <tr>\n",
       "      <th>4</th>\n",
       "      <td>136</td>\n",
       "      <td>10921 WILSHIRE BLVD, LOS ANGELES, CA, 90024</td>\n",
       "      <td>-118.444580</td>\n",
       "      <td>34.058598</td>\n",
       "      <td>6</td>\n",
       "      <td>37</td>\n",
       "      <td>265202</td>\n",
       "    </tr>\n",
       "    <tr>\n",
       "      <th>...</th>\n",
       "      <td>...</td>\n",
       "      <td>...</td>\n",
       "      <td>...</td>\n",
       "      <td>...</td>\n",
       "      <td>...</td>\n",
       "      <td>...</td>\n",
       "      <td>...</td>\n",
       "    </tr>\n",
       "    <tr>\n",
       "      <th>66</th>\n",
       "      <td>521</td>\n",
       "      <td>1 Daniel Burnham Ct, SAN FRANCISCO, CA, 94109</td>\n",
       "      <td>-122.422491</td>\n",
       "      <td>37.786755</td>\n",
       "      <td>6</td>\n",
       "      <td>6075</td>\n",
       "      <td>15100</td>\n",
       "    </tr>\n",
       "    <tr>\n",
       "      <th>67</th>\n",
       "      <td>524</td>\n",
       "      <td>1195 W. Fremont Ave, PALO ALTO, CA, 94087</td>\n",
       "      <td>-122.062431</td>\n",
       "      <td>37.353110</td>\n",
       "      <td>6</td>\n",
       "      <td>6085</td>\n",
       "      <td>510001</td>\n",
       "    </tr>\n",
       "    <tr>\n",
       "      <th>68</th>\n",
       "      <td>84</td>\n",
       "      <td>477 N. El Camino Real, ENCINITAS, CA, 92024</td>\n",
       "      <td>-117.261477</td>\n",
       "      <td>33.057114</td>\n",
       "      <td>6</td>\n",
       "      <td>6073</td>\n",
       "      <td>17108</td>\n",
       "    </tr>\n",
       "    <tr>\n",
       "      <th>69</th>\n",
       "      <td>198</td>\n",
       "      <td>203 N. Brea Blvd, BREA, CA, 92821</td>\n",
       "      <td>-117.897953</td>\n",
       "      <td>33.921864</td>\n",
       "      <td>6</td>\n",
       "      <td>6059</td>\n",
       "      <td>1503</td>\n",
       "    </tr>\n",
       "    <tr>\n",
       "      <th>70</th>\n",
       "      <td>463</td>\n",
       "      <td>510 N. Prospect Ave, REDONDO BEACH, CA, 90277</td>\n",
       "      <td>-118.378629</td>\n",
       "      <td>33.851956</td>\n",
       "      <td>6</td>\n",
       "      <td>6037</td>\n",
       "      <td>621201</td>\n",
       "    </tr>\n",
       "  </tbody>\n",
       "</table>\n",
       "<p>71 rows × 7 columns</p>\n",
       "</div>"
      ],
      "text/plain": [
       "    ClinicID                                        Address        Long  \\\n",
       "0        325       11370 ANDERSON ST, LOMA LINDA, CA, 92354 -117.261140   \n",
       "1        468              100 PARK PL, SAN RAMON, CA, 94583 -121.990890   \n",
       "2        318             101 ROWLAND WAY, NOVATO, CA, 94945 -122.558784   \n",
       "3        101           1060 MARSH RD, MENLO PARK, CA, 94025 -122.184875   \n",
       "4        136    10921 WILSHIRE BLVD, LOS ANGELES, CA, 90024 -118.444580   \n",
       "..       ...                                            ...         ...   \n",
       "66       521  1 Daniel Burnham Ct, SAN FRANCISCO, CA, 94109 -122.422491   \n",
       "67       524      1195 W. Fremont Ave, PALO ALTO, CA, 94087 -122.062431   \n",
       "68        84    477 N. El Camino Real, ENCINITAS, CA, 92024 -117.261477   \n",
       "69       198              203 N. Brea Blvd, BREA, CA, 92821 -117.897953   \n",
       "70       463  510 N. Prospect Ave, REDONDO BEACH, CA, 90277 -118.378629   \n",
       "\n",
       "          Lat  State Code  County Code  Tract Code  \n",
       "0   34.047215           6           71        7302  \n",
       "1   37.772377           6           13      345202  \n",
       "2   38.096916           6           41      101200  \n",
       "3   37.479930           6           81      611700  \n",
       "4   34.058598           6           37      265202  \n",
       "..        ...         ...          ...         ...  \n",
       "66  37.786755           6         6075       15100  \n",
       "67  37.353110           6         6085      510001  \n",
       "68  33.057114           6         6073       17108  \n",
       "69  33.921864           6         6059        1503  \n",
       "70  33.851956           6         6037      621201  \n",
       "\n",
       "[71 rows x 7 columns]"
      ]
     },
     "execution_count": 56,
     "metadata": {},
     "output_type": "execute_result"
    }
   ],
   "source": [
    "newfile=r'C:/2. Spring 2023/Python/5 EDA Group/'\n",
    "cor_clinic = pd.read_excel(newfile + 'fixed_file.xlsx')\n",
    "clinic.head(71)"
   ]
  },
  {
   "cell_type": "markdown",
   "id": "4c0e450a",
   "metadata": {},
   "source": [
    "# **2) Checking the DUPLICATION**"
   ]
  },
  {
   "cell_type": "code",
   "execution_count": 9,
   "id": "d57ecb1f",
   "metadata": {},
   "outputs": [
    {
     "data": {
      "text/plain": [
       "18370 BURBANK BLVD, TARZANA, CA, 91356           2\n",
       "10921 WILSHIRE BLVD, LOS ANGELES, CA, 90024      2\n",
       "2581 SAMARITAN DR, SAN JOSE, CA, 95124           1\n",
       "536 E ARRELLAGA ST, SANTA BARBARA, CA, 93103     1\n",
       "500 SUPERIOR AVE, NEWPORT BEACH, CA, 92663       1\n",
       "                                                ..\n",
       "3720 LOMITA BLVD, TORRANCE, CA, 90505            1\n",
       "39141 CIVIC CENTER DR, FREMONT, CA, 94538        1\n",
       "444 SAN VICENTE BLVD, LOS ANGELES, CA, 90048     1\n",
       "4835 VAN NUYS BLVD, SHERMAN OAKS, CA, 91403      1\n",
       "510 N. Prospect Ave, REDONDO BEACH, CA, 90277    1\n",
       "Name: Address, Length: 69, dtype: int64"
      ]
     },
     "execution_count": 9,
     "metadata": {},
     "output_type": "execute_result"
    }
   ],
   "source": [
    "clinic['Address'].value_counts()"
   ]
  },
  {
   "cell_type": "markdown",
   "id": "ea0c27c3",
   "metadata": {},
   "source": [
    "**Findings: So, we have two same address with different clinic ID in the dataset.**"
   ]
  },
  {
   "cell_type": "code",
   "execution_count": 10,
   "id": "07e4a515",
   "metadata": {
    "scrolled": true
   },
   "outputs": [
    {
     "data": {
      "text/plain": [
       "-118.534590    2\n",
       "-118.444580    2\n",
       "-121.950600    1\n",
       "-119.703560    1\n",
       "-117.934720    1\n",
       "              ..\n",
       "-118.348816    1\n",
       "-121.977930    1\n",
       "-118.375670    1\n",
       "-118.448700    1\n",
       " 33.851956     1\n",
       "Name: Long, Length: 69, dtype: int64"
      ]
     },
     "execution_count": 10,
     "metadata": {},
     "output_type": "execute_result"
    }
   ],
   "source": [
    "clinic['Long'].value_counts()"
   ]
  },
  {
   "cell_type": "code",
   "execution_count": 11,
   "id": "b74c4878",
   "metadata": {},
   "outputs": [
    {
     "data": {
      "text/plain": [
       " 34.172188     2\n",
       " 34.058598     2\n",
       " 37.252960     1\n",
       " 34.432720     1\n",
       " 33.624930     1\n",
       "              ..\n",
       " 33.814860     1\n",
       " 37.555100     1\n",
       " 34.070312     1\n",
       " 34.158540     1\n",
       "-118.378629    1\n",
       "Name:  Lat, Length: 69, dtype: int64"
      ]
     },
     "execution_count": 11,
     "metadata": {},
     "output_type": "execute_result"
    }
   ],
   "source": [
    "clinic[' Lat'].value_counts()"
   ]
  },
  {
   "cell_type": "markdown",
   "id": "5f8819c8",
   "metadata": {},
   "source": [
    "**Findings: We have same longitude and latitude with different clinic ID in the dataset.**"
   ]
  },
  {
   "cell_type": "markdown",
   "id": "29ebdc37",
   "metadata": {},
   "source": [
    "# **3) Checking some statistics of the data**"
   ]
  },
  {
   "cell_type": "code",
   "execution_count": 12,
   "id": "46bfb089",
   "metadata": {},
   "outputs": [
    {
     "data": {
      "text/plain": [
       "-89.30566091549294"
      ]
     },
     "execution_count": 12,
     "metadata": {},
     "output_type": "execute_result"
    }
   ],
   "source": [
    "clinic['Long'].mean()"
   ]
  },
  {
   "cell_type": "code",
   "execution_count": 13,
   "id": "fcdf6f06",
   "metadata": {},
   "outputs": [
    {
     "data": {
      "text/plain": [
       "-118.396034"
      ]
     },
     "execution_count": 13,
     "metadata": {},
     "output_type": "execute_result"
    }
   ],
   "source": [
    "clinic['Long'].median()"
   ]
  },
  {
   "cell_type": "code",
   "execution_count": 14,
   "id": "42080e7e",
   "metadata": {},
   "outputs": [
    {
     "data": {
      "text/plain": [
       "0   -118.53459\n",
       "1   -118.44458\n",
       "dtype: float64"
      ]
     },
     "execution_count": 14,
     "metadata": {},
     "output_type": "execute_result"
    }
   ],
   "source": [
    "clinic['Long'].mode()"
   ]
  },
  {
   "cell_type": "code",
   "execution_count": 15,
   "id": "d74ad337",
   "metadata": {},
   "outputs": [
    {
     "data": {
      "text/plain": [
       "61.65389120558073"
      ]
     },
     "execution_count": 15,
     "metadata": {},
     "output_type": "execute_result"
    }
   ],
   "source": [
    "clinic['Long'].std()"
   ]
  },
  {
   "cell_type": "code",
   "execution_count": 16,
   "id": "2cff3b82",
   "metadata": {},
   "outputs": [
    {
     "data": {
      "text/plain": [
       "5.0115926619718305"
      ]
     },
     "execution_count": 16,
     "metadata": {},
     "output_type": "execute_result"
    }
   ],
   "source": [
    "clinic[' Lat'].mean()"
   ]
  },
  {
   "cell_type": "code",
   "execution_count": 17,
   "id": "e1d59766",
   "metadata": {},
   "outputs": [
    {
     "data": {
      "text/plain": [
       "34.067833"
      ]
     },
     "execution_count": 17,
     "metadata": {},
     "output_type": "execute_result"
    }
   ],
   "source": [
    "clinic[' Lat'].median()"
   ]
  },
  {
   "cell_type": "code",
   "execution_count": 18,
   "id": "08fae325",
   "metadata": {},
   "outputs": [
    {
     "data": {
      "text/plain": [
       "0    34.058598\n",
       "1    34.172188\n",
       "dtype: float64"
      ]
     },
     "execution_count": 18,
     "metadata": {},
     "output_type": "execute_result"
    }
   ],
   "source": [
    "clinic[' Lat'].mode()"
   ]
  },
  {
   "cell_type": "code",
   "execution_count": 19,
   "id": "724c4fae",
   "metadata": {},
   "outputs": [
    {
     "data": {
      "text/plain": [
       "61.687489879558896"
      ]
     },
     "execution_count": 19,
     "metadata": {},
     "output_type": "execute_result"
    }
   ],
   "source": [
    "clinic[' Lat'].std()"
   ]
  },
  {
   "cell_type": "code",
   "execution_count": 20,
   "id": "c9aca26c",
   "metadata": {
    "scrolled": true
   },
   "outputs": [
    {
     "data": {
      "image/png": "[encoded data removed]",
      "text/plain": [
       "<Figure size 720x360 with 2 Axes>"
      ]
     },
     "metadata": {
      "needs_background": "light"
     },
     "output_type": "display_data"
    }
   ],
   "source": [
    "#Plotting the data in boxplot\n",
    "\n",
    "import matplotlib.pyplot as plt\n",
    "fig, axs = plt.subplots(ncols=2, figsize=(10, 5))\n",
    "axs[0].boxplot(clinic[' Lat'])\n",
    "axs[0].set_title('Latitude')\n",
    "axs[1].boxplot(clinic['Long'])\n",
    "axs[1].set_title('Longitude')\n",
    "plt.show()"
   ]
  },
  {
   "cell_type": "markdown",
   "id": "4cdea929",
   "metadata": {},
   "source": [
    "**Findings: Data are non-parametric, as mean, median, mode are different. And there are some extreme outliers of latitude and longitude in the dataset.**"
   ]
  },
  {
   "cell_type": "code",
   "execution_count": 21,
   "id": "eaa77edf",
   "metadata": {},
   "outputs": [
    {
     "data": {
      "image/png": "[encoded data removed]",
      "text/plain": [
       "<Figure size 432x288 with 1 Axes>"
      ]
     },
     "metadata": {
      "needs_background": "light"
     },
     "output_type": "display_data"
    }
   ],
   "source": [
    "#creating a scatterplot to double check the resuslts above\n",
    "\n",
    "plt.scatter(clinic[' Lat'], clinic['Long'])\n",
    "plt.xlabel('Latitude')\n",
    "plt.ylabel('Longitude')\n",
    "plt.show()"
   ]
  },
  {
   "cell_type": "markdown",
   "id": "337c4fda",
   "metadata": {},
   "source": [
    "**There is something wrong with these two datasets.**"
   ]
  },
  {
   "cell_type": "markdown",
   "id": "fe0762d9",
   "metadata": {},
   "source": [
    "#  So, we have to take decision about the same addresses as we have to locate the clinics spatially. Also, we have to make corrections in the data of latitude and longitude as some latitude are of negative values and some logtitude are of positive values. In addition, we have to decide whether we are going to keep the outliers or not. Outliers may influence the results of this analysis."
   ]
  }
 ],
 "metadata": {
  "kernelspec": {
   "display_name": "Python 3",
   "language": "python",
   "name": "python3"
  },
  "language_info": {
   "codemirror_mode": {
    "name": "ipython",
    "version": 3
   },
   "file_extension": ".py",
   "mimetype": "text/x-python",
   "name": "python",
   "nbconvert_exporter": "python",
   "pygments_lexer": "ipython3",
   "version": "3.9.11"
  }
 },
 "nbformat": 4,
 "nbformat_minor": 5
}
