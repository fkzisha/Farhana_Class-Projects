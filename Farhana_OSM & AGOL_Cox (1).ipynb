{
 "cells": [
  {
   "cell_type": "markdown",
   "id": "71ab3043",
   "metadata": {},
   "source": [
    "# 1. OSM"
   ]
  },
  {
   "cell_type": "markdown",
   "id": "65545599",
   "metadata": {},
   "source": [
    "**Here I want to show you a small city 'Blacktown' in Australia. Back in 2017, I visited my uncle there in Blacktown.It was my first international travel. I stayed there for 2.5 months. Its a memorable place for me till then.**"
   ]
  },
  {
   "cell_type": "code",
   "execution_count": 2,
   "id": "3928a5c8",
   "metadata": {},
   "outputs": [
    {
     "data": {
      "text/html": [
       "\n",
       "<iframe width=\"700\" height=\"500\" frameborder=\"0\" scrolling=\"no\" \n",
       "marginheight=\"1\" marginwidth=\"1\" \n",
       "src=\"https://www.openstreetmap.org/export/embed.html?bbox=150.849781%2C-33.824117%2C150.989285%2C-33.748635&amp;layer=mapnik\" \n",
       "style=\"border: 1px solid grey\"></iframe><br/>\n",
       "\n",
       "<small>\n",
       "<a href=\"https://www.openstreetmap.org/#map=16/42.0110/-85.4734\">\n",
       "View Larger Map</a></small>\n"
      ],
      "text/plain": [
       "<IPython.core.display.HTML object>"
      ]
     },
     "execution_count": 2,
     "metadata": {},
     "output_type": "execute_result"
    }
   ],
   "source": [
    "import IPython.display as display\n",
    "blacktown_sydney= \"\"\"\n",
    "<iframe width=\"700\" height=\"500\" frameborder=\"0\" scrolling=\"no\" \n",
    "marginheight=\"1\" marginwidth=\"1\" \n",
    "src=\"https://www.openstreetmap.org/export/embed.html?bbox=150.849781%2C-33.824117%2C150.989285%2C-33.748635&amp;layer=mapnik\" \n",
    "style=\"border: 1px solid grey\"></iframe><br/>\n",
    "\n",
    "<small>\n",
    "<a href=\"https://www.openstreetmap.org/#map=16/42.0110/-85.4734\">\n",
    "View Larger Map</a></small>\n",
    "\"\"\"\n",
    "display.HTML(blacktown_sydney)"
   ]
  },
  {
   "cell_type": "markdown",
   "id": "1d054177",
   "metadata": {},
   "source": [
    "**This is another memorable place of mine. It is my undergraduate university where I spent 4 years of my life!**"
   ]
  },
  {
   "cell_type": "code",
   "execution_count": 2,
   "id": "ff8d4f3e",
   "metadata": {
    "scrolled": true
   },
   "outputs": [
    {
     "data": {
      "text/html": [
       "\n",
       "<iframe width=\"700\" height=\"600\" frameborder=\"0\" scrolling=\"no\" \n",
       "marginheight=\"1\" marginwidth=\"1\" \n",
       "src=\"https://www.openstreetmap.org/export/embed.html?bbox=89.5%2C22.90%2C89.51%2C22.90&amp;layer=mapnik\" \n",
       "style=\"border: 1px solid grey\"></iframe><br/>\n",
       "\n",
       "<small>\n",
       "<a href=\"https://www.openstreetmap.org/#map=16/42.0110/-85.4734\">\n",
       "View Larger Map</a></small>\n"
      ],
      "text/plain": [
       "<IPython.core.display.HTML object>"
      ]
     },
     "execution_count": 2,
     "metadata": {},
     "output_type": "execute_result"
    }
   ],
   "source": [
    "import IPython.display as display\n",
    "KUET_campus= \"\"\"\n",
    "<iframe width=\"700\" height=\"600\" frameborder=\"0\" scrolling=\"no\" \n",
    "marginheight=\"1\" marginwidth=\"1\" \n",
    "src=\"https://www.openstreetmap.org/export/embed.html?bbox=89.5%2C22.90%2C89.51%2C22.90&amp;layer=mapnik\" \n",
    "style=\"border: 1px solid grey\"></iframe><br/>\n",
    "\n",
    "<small>\n",
    "<a href=\"https://www.openstreetmap.org/#map=16/42.0110/-85.4734\">\n",
    "View Larger Map</a></small>\n",
    "\"\"\"\n",
    "display.HTML(KUET_campus)"
   ]
  },
  {
   "cell_type": "markdown",
   "id": "dc9366c2",
   "metadata": {},
   "source": [
    "**I have explored different data of this KUET campus through osmnx which is in another python (ox) file.**"
   ]
  },
  {
   "cell_type": "markdown",
   "id": "f737013a",
   "metadata": {},
   "source": [
    "## 2. AGOL"
   ]
  },
  {
   "cell_type": "code",
   "execution_count": 1,
   "id": "7b8e4eb2",
   "metadata": {},
   "outputs": [
    {
     "ename": "ModuleNotFoundError",
     "evalue": "No module named 'arcgis'",
     "output_type": "error",
     "traceback": [
      "\u001b[1;31m---------------------------------------------------------------------------\u001b[0m",
      "\u001b[1;31mModuleNotFoundError\u001b[0m                       Traceback (most recent call last)",
      "Cell \u001b[1;32mIn[1], line 2\u001b[0m\n\u001b[0;32m      1\u001b[0m \u001b[38;5;66;03m#importing ArcGIS\u001b[39;00m\n\u001b[1;32m----> 2\u001b[0m \u001b[38;5;28;01mimport\u001b[39;00m \u001b[38;5;21;01marcgis\u001b[39;00m\n\u001b[0;32m      3\u001b[0m \u001b[38;5;28;01mfrom\u001b[39;00m \u001b[38;5;21;01marcgis\u001b[39;00m\u001b[38;5;21;01m.\u001b[39;00m\u001b[38;5;21;01mgis\u001b[39;00m \u001b[38;5;28;01mimport\u001b[39;00m GIS\n\u001b[0;32m      4\u001b[0m \u001b[38;5;28;01mimport\u001b[39;00m \u001b[38;5;21;01mpandas\u001b[39;00m \u001b[38;5;28;01mas\u001b[39;00m \u001b[38;5;21;01mpd\u001b[39;00m\n",
      "\u001b[1;31mModuleNotFoundError\u001b[0m: No module named 'arcgis'"
     ]
    }
   ],
   "source": [
    "#importing ArcGIS\n",
    "import arcgis\n",
    "from arcgis.gis import GIS\n",
    "import pandas as pd\n",
    "import numpy as np\n",
    "\n",
    "arcgis.__version__"
   ]
  },
  {
   "cell_type": "code",
   "execution_count": 4,
   "id": "59bff70a",
   "metadata": {},
   "outputs": [],
   "source": [
    "gis = GIS()"
   ]
  },
  {
   "cell_type": "code",
   "execution_count": 5,
   "id": "3e07d39c",
   "metadata": {},
   "outputs": [],
   "source": [
    "#Let's find flood incidents in Bangladesh\n",
    "floods= gis.content.search(\"Flood Inundation in Bangladesh\", \"Feature Layer\", outside_org=True)[0]"
   ]
  },
  {
   "cell_type": "code",
   "execution_count": 2,
   "id": "d2e90bd0",
   "metadata": {},
   "outputs": [
    {
     "ename": "NameError",
     "evalue": "name 'floods' is not defined",
     "output_type": "error",
     "traceback": [
      "\u001b[1;31m---------------------------------------------------------------------------\u001b[0m",
      "\u001b[1;31mNameError\u001b[0m                                 Traceback (most recent call last)",
      "Cell \u001b[1;32mIn[2], line 1\u001b[0m\n\u001b[1;32m----> 1\u001b[0m \u001b[43mfloods\u001b[49m\n",
      "\u001b[1;31mNameError\u001b[0m: name 'floods' is not defined"
     ]
    }
   ],
   "source": [
    "floods"
   ]
  },
  {
   "cell_type": "code",
   "execution_count": 3,
   "id": "f4a2f33b",
   "metadata": {},
   "outputs": [
    {
     "data": {
      "text/html": [
       "\n",
       "<iframe width=\"800\" height=\"500\" frameborder=\"0\" scrolling=\"no\" \n",
       "marginheight=\"0\" marginwidth=\"0\" \n",
       "src=\"https://www.openstreetmap.org/export/embed.html?bbox=91.220398%2C20.568652%2C92.805176%2C21.781975&amp;layer=mapnik\" \n",
       "style=\"border: 2px solid red\"></iframe><br/>\n",
       "\n",
       "<small>\n",
       "<a href=\"https://www.openstreetmap.org/#map=16/42.0110/-85.4734\">\n",
       "View Larger Map</a></small>\n"
      ],
      "text/plain": [
       "<IPython.core.display.HTML object>"
      ]
     },
     "execution_count": 3,
     "metadata": {},
     "output_type": "execute_result"
    }
   ],
   "source": [
    "#This study is based on Cox's'Bazar of Bangladesh. So, let's create a map of Cox's'Bazar for our further exploration.\n",
    "import IPython.display as display\n",
    "CoxSBazar= \"\"\"\n",
    "<iframe width=\"800\" height=\"500\" frameborder=\"0\" scrolling=\"no\" \n",
    "marginheight=\"0\" marginwidth=\"0\" \n",
    "src=\"https://www.openstreetmap.org/export/embed.html?bbox=91.220398%2C20.568652%2C92.805176%2C21.781975&amp;layer=mapnik\" \n",
    "style=\"border: 2px solid red\"></iframe><br/>\n",
    "\n",
    "<small>\n",
    "<a href=\"https://www.openstreetmap.org/#map=16/42.0110/-85.4734\">\n",
    "View Larger Map</a></small>\n",
    "\"\"\"\n",
    "display.HTML(CoxSBazar)"
   ]
  },
  {
   "cell_type": "code",
   "execution_count": 4,
   "id": "27d34dd7",
   "metadata": {},
   "outputs": [
    {
     "ename": "NameError",
     "evalue": "name 'gis' is not defined",
     "output_type": "error",
     "traceback": [
      "\u001b[1;31m---------------------------------------------------------------------------\u001b[0m",
      "\u001b[1;31mNameError\u001b[0m                                 Traceback (most recent call last)",
      "Cell \u001b[1;32mIn[4], line 1\u001b[0m\n\u001b[1;32m----> 1\u001b[0m study_map\u001b[38;5;241m=\u001b[39m \u001b[43mgis\u001b[49m\u001b[38;5;241m.\u001b[39mmap(\u001b[38;5;124m'\u001b[39m\u001b[38;5;124mCoxSBazar\u001b[39m\u001b[38;5;124m'\u001b[39m)\n\u001b[0;32m      2\u001b[0m study_map\n",
      "\u001b[1;31mNameError\u001b[0m: name 'gis' is not defined"
     ]
    }
   ],
   "source": [
    "study_map= gis.map('CoxSBazar')\n",
    "study_map"
   ]
  },
  {
   "cell_type": "code",
   "execution_count": 10,
   "id": "0de33324",
   "metadata": {},
   "outputs": [
    {
     "data": {
      "text/plain": [
       "{'spatialReference': {'latestWkid': 3857, 'wkid': 102100},\n",
       " 'x': 10253339.960733112,\n",
       " 'y': 2445475.209641493}"
      ]
     },
     "execution_count": 10,
     "metadata": {},
     "output_type": "execute_result"
    }
   ],
   "source": [
    "#finding coordinates of the center of the map\n",
    "study_map.center"
   ]
  },
  {
   "cell_type": "code",
   "execution_count": 11,
   "id": "b117adfc",
   "metadata": {},
   "outputs": [
    {
     "data": {
      "application/vnd.jupyter.widget-view+json": {
       "model_id": "d8bfb4bb9d45490a960db600180d1697",
       "version_major": 2,
       "version_minor": 0
      },
      "text/plain": [
       "MapView(layout=Layout(height='400px', width='100%'))"
      ]
     },
     "metadata": {},
     "output_type": "display_data"
    },
    {
     "data": {
      "text/html": [
       "<div class=\"map-static-img-preview-1d128017-dac1-4e7c-9cd4-0f1d7f0f81ed\"><img src=\"\"></img></div>"
      ],
      "text/plain": [
       "<IPython.core.display.HTML object>"
      ]
     },
     "metadata": {},
     "output_type": "display_data"
    },
    {
     "data": {
      "text/html": [
       "<div class=\"map-html-embed-preview-1d128017-dac1-4e7c-9cd4-0f1d7f0f81ed\"></div>"
      ],
      "text/plain": [
       "<IPython.core.display.HTML object>"
      ]
     },
     "metadata": {},
     "output_type": "display_data"
    }
   ],
   "source": [
    "map2= gis.map('CoxSBazar')\n",
    "map2"
   ]
  },
  {
   "cell_type": "code",
   "execution_count": 5,
   "id": "c870f3fa",
   "metadata": {},
   "outputs": [
    {
     "ename": "NameError",
     "evalue": "name 'gis' is not defined",
     "output_type": "error",
     "traceback": [
      "\u001b[1;31m---------------------------------------------------------------------------\u001b[0m",
      "\u001b[1;31mNameError\u001b[0m                                 Traceback (most recent call last)",
      "Cell \u001b[1;32mIn[5], line 2\u001b[0m\n\u001b[0;32m      1\u001b[0m \u001b[38;5;66;03m#finding some landsat image features of the study area\u001b[39;00m\n\u001b[1;32m----> 2\u001b[0m landsat_item \u001b[38;5;241m=\u001b[39m \u001b[43mgis\u001b[49m\u001b[38;5;241m.\u001b[39mcontent\u001b[38;5;241m.\u001b[39msearch(\u001b[38;5;124m\"\u001b[39m\u001b[38;5;124mLandsat Multispectral tags:\u001b[39m\u001b[38;5;124m'\u001b[39m\u001b[38;5;124mLandsat on AWS\u001b[39m\u001b[38;5;124m'\u001b[39m\u001b[38;5;124m,\u001b[39m\u001b[38;5;124m'\u001b[39m\u001b[38;5;124mlandsat 8\u001b[39m\u001b[38;5;124m'\u001b[39m\u001b[38;5;124m, \u001b[39m\u001b[38;5;124m'\u001b[39m\u001b[38;5;124mMultispectral\u001b[39m\u001b[38;5;124m'\u001b[39m\u001b[38;5;124m, \u001b[39m\u001b[38;5;124m'\u001b[39m\u001b[38;5;124mMultitemporal\u001b[39m\u001b[38;5;124m'\u001b[39m\u001b[38;5;124m, \u001b[39m\u001b[38;5;124m'\u001b[39m\u001b[38;5;124mimagery\u001b[39m\u001b[38;5;124m'\u001b[39m\u001b[38;5;124m, \u001b[39m\u001b[38;5;124m'\u001b[39m\u001b[38;5;124mtemporal\u001b[39m\u001b[38;5;124m'\u001b[39m\u001b[38;5;124m, \u001b[39m\u001b[38;5;124m'\u001b[39m\u001b[38;5;124mMS\u001b[39m\u001b[38;5;124m'\u001b[39m\u001b[38;5;124m\"\u001b[39m, \u001b[38;5;124m'\u001b[39m\u001b[38;5;124mImagery Layer\u001b[39m\u001b[38;5;124m'\u001b[39m, outside_org\u001b[38;5;241m=\u001b[39m\u001b[38;5;28;01mTrue\u001b[39;00m)[\u001b[38;5;241m0\u001b[39m]\n\u001b[0;32m      3\u001b[0m \u001b[38;5;28mprint\u001b[39m(landsat_item)\n",
      "\u001b[1;31mNameError\u001b[0m: name 'gis' is not defined"
     ]
    }
   ],
   "source": [
    "#finding some landsat image features of the study area\n",
    "landsat_item = gis.content.search(\"Landsat Multispectral tags:'Landsat on AWS','landsat 8', 'Multispectral', 'Multitemporal', 'imagery', 'temporal', 'MS'\", 'Imagery Layer', outside_org=True)[0]\n",
    "print(landsat_item)"
   ]
  },
  {
   "cell_type": "code",
   "execution_count": 13,
   "id": "d7c5a2fb",
   "metadata": {},
   "outputs": [
    {
     "data": {
      "application/vnd.jupyter.widget-view+json": {
       "model_id": "d8bfb4bb9d45490a960db600180d1697",
       "version_major": 2,
       "version_minor": 0
      },
      "text/plain": [
       "MapView(jupyter_target='notebook', layout=Layout(height='400px', width='100%'), ready=True)"
      ]
     },
     "metadata": {},
     "output_type": "display_data"
    },
    {
     "data": {
      "text/html": [
       "<div class=\"map-static-img-preview-1d128017-dac1-4e7c-9cd4-0f1d7f0f81ed\"><img src=\"\"></img></div>"
      ],
      "text/plain": [
       "<IPython.core.display.HTML object>"
      ]
     },
     "metadata": {},
     "output_type": "display_data"
    },
    {
     "data": {
      "text/html": [
       "<div class=\"map-html-embed-preview-1d128017-dac1-4e7c-9cd4-0f1d7f0f81ed\"></div>"
      ],
      "text/plain": [
       "<IPython.core.display.HTML object>"
      ]
     },
     "metadata": {},
     "output_type": "display_data"
    }
   ],
   "source": [
    "map2.add_layer(landsat_item)\n",
    "map2"
   ]
  },
  {
   "cell_type": "code",
   "execution_count": 15,
   "id": "e071e8ce",
   "metadata": {},
   "outputs": [],
   "source": [
    "map2.legend=True"
   ]
  },
  {
   "cell_type": "code",
   "execution_count": 16,
   "id": "949e478e",
   "metadata": {
    "scrolled": true
   },
   "outputs": [
    {
     "name": "stdout",
     "output_type": "stream",
     "text": [
      "<Item title:\"Multispectral Landsat\" type:Imagery Layer owner:esri>\n"
     ]
    },
    {
     "data": {
      "application/vnd.jupyter.widget-view+json": {
       "model_id": "6556747750aa47a789d86dfa39370da3",
       "version_major": 2,
       "version_minor": 0
      },
      "text/plain": [
       "MapView(layout=Layout(height='400px', width='100%'), time_slider=True)"
      ]
     },
     "metadata": {},
     "output_type": "display_data"
    },
    {
     "data": {
      "text/html": [
       "<div class=\"map-static-img-preview-3373c255-4159-4df4-9d2c-d1acc81c7c0d\"><img src=\"\"></img></div>"
      ],
      "text/plain": [
       "<IPython.core.display.HTML object>"
      ]
     },
     "metadata": {},
     "output_type": "display_data"
    },
    {
     "data": {
      "text/html": [
       "<div class=\"map-html-embed-preview-3373c255-4159-4df4-9d2c-d1acc81c7c0d\"></div>"
      ],
      "text/plain": [
       "<IPython.core.display.HTML object>"
      ]
     },
     "metadata": {},
     "output_type": "display_data"
    }
   ],
   "source": [
    "map3= gis.map('CoxSBazar')\n",
    "landsat_item = gis.content.search(\"Landsat Multispectral tags:'Landsat on AWS','landsat 8', 'Multispectral', 'Multitemporal', 'imagery', 'temporal', 'MS'\", 'Imagery Layer', outside_org=True)[0]\n",
    "print(landsat_item)\n",
    "map3.add_layer(landsat_item)\n",
    "\n",
    "from datetime import datetime\n",
    "map3.time_slider = True\n",
    "map3.set_time_extent(start_time=datetime(2000, 12, 15), end_time=datetime(2023, 2, 5), interval=10, unit='days')\n",
    "map3"
   ]
  },
  {
   "cell_type": "markdown",
   "id": "b458fc01",
   "metadata": {},
   "source": [
    "**It seems that most of the widget couldn't get data for CoxSBazar. The reason might be the data unavailability for this region. But all of the widgets worked for USA. So, for this file, I am visualizing the widgets that could show result for CoxSBazar.**"
   ]
  },
  {
   "cell_type": "code",
   "execution_count": null,
   "id": "330b565f",
   "metadata": {},
   "outputs": [],
   "source": []
  }
 ],
 "metadata": {
  "kernelspec": {
   "display_name": "Python 3",
   "language": "python",
   "name": "python3"
  },
  "language_info": {
   "codemirror_mode": {
    "name": "ipython",
    "version": 3
   },
   "file_extension": ".py",
   "mimetype": "text/x-python",
   "name": "python",
   "nbconvert_exporter": "python",
   "pygments_lexer": "ipython3",
   "version": "3.9.11"
  }
 },
 "nbformat": 4,
 "nbformat_minor": 5
}
