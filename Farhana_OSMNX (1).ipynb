{
 "cells": [
  {
   "cell_type": "markdown",
   "id": "c0f31e66",
   "metadata": {
    "tags": []
   },
   "source": [
    "**Let's retrieve some data of my undergrad university (KUET, Bangladesh) via osmnx!**"
   ]
  },
  {
   "cell_type": "code",
   "execution_count": 1,
   "id": "d97c74c9",
   "metadata": {
    "tags": []
   },
   "outputs": [
    {
     "data": {
      "text/html": [
       "\n",
       "<iframe width=\"700\" height=\"600\" frameborder=\"0\" scrolling=\"no\" \n",
       "marginheight=\"1\" marginwidth=\"1\" \n",
       "src=\"https://www.openstreetmap.org/export/embed.html?bbox=89.5%2C22.90%2C89.51%2C22.90&amp;layer=mapnik\" \n",
       "style=\"border: 1px solid grey\"></iframe><br/>\n",
       "\n",
       "<small>\n",
       "<a href=\"https://www.openstreetmap.org/#map=16/42.0110/-85.4734\">\n",
       "View Larger Map</a></small>\n"
      ],
      "text/plain": [
       "<IPython.core.display.HTML object>"
      ]
     },
     "execution_count": 1,
     "metadata": {},
     "output_type": "execute_result"
    }
   ],
   "source": [
    "import IPython.display as display\n",
    "KUET_campus= \"\"\"\n",
    "<iframe width=\"700\" height=\"600\" frameborder=\"0\" scrolling=\"no\" \n",
    "marginheight=\"1\" marginwidth=\"1\" \n",
    "src=\"https://www.openstreetmap.org/export/embed.html?bbox=89.5%2C22.90%2C89.51%2C22.90&amp;layer=mapnik\" \n",
    "style=\"border: 1px solid grey\"></iframe><br/>\n",
    "\n",
    "<small>\n",
    "<a href=\"https://www.openstreetmap.org/#map=16/42.0110/-85.4734\">\n",
    "View Larger Map</a></small>\n",
    "\"\"\"\n",
    "display.HTML(KUET_campus)"
   ]
  },
  {
   "cell_type": "code",
   "execution_count": 5,
   "id": "ede6e219",
   "metadata": {
    "tags": []
   },
   "outputs": [],
   "source": [
    "#I want to know the lat,long, and boundary box information about KUET. So, I can use osmnx to retrieve those data. \n",
    "#The area widget will give additional information about the landuse type and some other features.\n",
    "#With this function, we can retrieve spatial data regarding any places from open street map.\n",
    "import osmnx as ox\n",
    "import geopandas as gpd\n",
    "place= \"KUET, Khulna, Bangladesh\"\n",
    "area = ox.geocode_to_gdf(place)"
   ]
  },
  {
   "cell_type": "code",
   "execution_count": 6,
   "id": "bb32246f",
   "metadata": {
    "tags": []
   },
   "outputs": [
    {
     "data": {
      "text/html": [
       "<div>\n",
       "<style scoped>\n",
       "    .dataframe tbody tr th:only-of-type {\n",
       "        vertical-align: middle;\n",
       "    }\n",
       "\n",
       "    .dataframe tbody tr th {\n",
       "        vertical-align: top;\n",
       "    }\n",
       "\n",
       "    .dataframe thead th {\n",
       "        text-align: right;\n",
       "    }\n",
       "</style>\n",
       "<table border=\"1\" class=\"dataframe\">\n",
       "  <thead>\n",
       "    <tr style=\"text-align: right;\">\n",
       "      <th></th>\n",
       "      <th>geometry</th>\n",
       "      <th>bbox_north</th>\n",
       "      <th>bbox_south</th>\n",
       "      <th>bbox_east</th>\n",
       "      <th>bbox_west</th>\n",
       "      <th>place_id</th>\n",
       "      <th>osm_type</th>\n",
       "      <th>osm_id</th>\n",
       "      <th>lat</th>\n",
       "      <th>lon</th>\n",
       "      <th>display_name</th>\n",
       "      <th>class</th>\n",
       "      <th>type</th>\n",
       "      <th>importance</th>\n",
       "    </tr>\n",
       "  </thead>\n",
       "  <tbody>\n",
       "    <tr>\n",
       "      <th>0</th>\n",
       "      <td>POLYGON ((89.49825 22.90105, 89.49829 22.89941...</td>\n",
       "      <td>22.901063</td>\n",
       "      <td>22.899407</td>\n",
       "      <td>89.500347</td>\n",
       "      <td>89.498247</td>\n",
       "      <td>243974601</td>\n",
       "      <td>way</td>\n",
       "      <td>693888151</td>\n",
       "      <td>22.900462</td>\n",
       "      <td>89.4993</td>\n",
       "      <td>IT Incubation Centre, KUET, KUET residential a...</td>\n",
       "      <td>amenity</td>\n",
       "      <td>university</td>\n",
       "      <td>0.32001</td>\n",
       "    </tr>\n",
       "  </tbody>\n",
       "</table>\n",
       "</div>"
      ],
      "text/plain": [
       "                                            geometry  bbox_north  bbox_south  \\\n",
       "0  POLYGON ((89.49825 22.90105, 89.49829 22.89941...   22.901063   22.899407   \n",
       "\n",
       "   bbox_east  bbox_west   place_id osm_type     osm_id        lat      lon  \\\n",
       "0  89.500347  89.498247  243974601      way  693888151  22.900462  89.4993   \n",
       "\n",
       "                                        display_name    class        type  \\\n",
       "0  IT Incubation Centre, KUET, KUET residential a...  amenity  university   \n",
       "\n",
       "   importance  \n",
       "0     0.32001  "
      ]
     },
     "execution_count": 6,
     "metadata": {},
     "output_type": "execute_result"
    }
   ],
   "source": [
    "area"
   ]
  },
  {
   "cell_type": "code",
   "execution_count": 7,
   "id": "b2c11960",
   "metadata": {
    "tags": []
   },
   "outputs": [
    {
     "data": {
      "text/html": [
       "<div>\n",
       "<style scoped>\n",
       "    .dataframe tbody tr th:only-of-type {\n",
       "        vertical-align: middle;\n",
       "    }\n",
       "\n",
       "    .dataframe tbody tr th {\n",
       "        vertical-align: top;\n",
       "    }\n",
       "\n",
       "    .dataframe thead th {\n",
       "        text-align: right;\n",
       "    }\n",
       "</style>\n",
       "<table border=\"1\" class=\"dataframe\">\n",
       "  <thead>\n",
       "    <tr style=\"text-align: right;\">\n",
       "      <th></th>\n",
       "      <th></th>\n",
       "      <th>nodes</th>\n",
       "      <th>addr:city</th>\n",
       "      <th>building</th>\n",
       "      <th>geometry</th>\n",
       "    </tr>\n",
       "    <tr>\n",
       "      <th>element_type</th>\n",
       "      <th>osmid</th>\n",
       "      <th></th>\n",
       "      <th></th>\n",
       "      <th></th>\n",
       "      <th></th>\n",
       "    </tr>\n",
       "  </thead>\n",
       "  <tbody>\n",
       "    <tr>\n",
       "      <th rowspan=\"2\" valign=\"top\">way</th>\n",
       "      <th>552114940</th>\n",
       "      <td>[5331032141, 5331032140, 5331032139, 533103213...</td>\n",
       "      <td>Khulna</td>\n",
       "      <td>yes</td>\n",
       "      <td>POLYGON ((89.49904 22.89955, 89.49927 22.89967...</td>\n",
       "    </tr>\n",
       "    <tr>\n",
       "      <th>1014139375</th>\n",
       "      <td>[9356416705, 9356416706, 9356416707, 935641670...</td>\n",
       "      <td>NaN</td>\n",
       "      <td>yes</td>\n",
       "      <td>POLYGON ((89.49850 22.90076, 89.49847 22.90034...</td>\n",
       "    </tr>\n",
       "  </tbody>\n",
       "</table>\n",
       "</div>"
      ],
      "text/plain": [
       "                                                                     nodes  \\\n",
       "element_type osmid                                                           \n",
       "way          552114940   [5331032141, 5331032140, 5331032139, 533103213...   \n",
       "             1014139375  [9356416705, 9356416706, 9356416707, 935641670...   \n",
       "\n",
       "                        addr:city building  \\\n",
       "element_type osmid                           \n",
       "way          552114940     Khulna      yes   \n",
       "             1014139375       NaN      yes   \n",
       "\n",
       "                                                                  geometry  \n",
       "element_type osmid                                                          \n",
       "way          552114940   POLYGON ((89.49904 22.89955, 89.49927 22.89967...  \n",
       "             1014139375  POLYGON ((89.49850 22.90076, 89.49847 22.90034...  "
      ]
     },
     "execution_count": 7,
     "metadata": {},
     "output_type": "execute_result"
    }
   ],
   "source": [
    "#retrieving footprint data\n",
    "data= {'building': True}   \n",
    "\n",
    "buildings = ox.geometries_from_place(place, data)\n",
    "buildings.head()"
   ]
  },
  {
   "cell_type": "code",
   "execution_count": 8,
   "id": "ecf82a6a",
   "metadata": {
    "tags": []
   },
   "outputs": [
    {
     "data": {
      "text/plain": [
       "<AxesSubplot: >"
      ]
     },
     "execution_count": 8,
     "metadata": {},
     "output_type": "execute_result"
    },
    {
     "data": {
      "image/png": "[encoded data removed]",
      "text/plain": [
       "<Figure size 640x480 with 1 Axes>"
      ]
     },
     "metadata": {},
     "output_type": "display_data"
    }
   ],
   "source": [
    "#plotting footprint\n",
    "buildings.plot()"
   ]
  },
  {
   "cell_type": "code",
   "execution_count": 9,
   "id": "604a2d31",
   "metadata": {
    "tags": []
   },
   "outputs": [],
   "source": [
    "#Let's do the same for the biggest shopping mall of Bangladesh, Jamuna Future Park\n",
    "import osmnx as ox\n",
    "import geopandas as gpd\n",
    "place= \"Jamuna Future Park, Dhaka, Bangladesh\"\n",
    "area = ox.geocode_to_gdf(place)"
   ]
  },
  {
   "cell_type": "code",
   "execution_count": 10,
   "id": "20ee491a",
   "metadata": {
    "tags": []
   },
   "outputs": [
    {
     "data": {
      "text/html": [
       "<div>\n",
       "<style scoped>\n",
       "    .dataframe tbody tr th:only-of-type {\n",
       "        vertical-align: middle;\n",
       "    }\n",
       "\n",
       "    .dataframe tbody tr th {\n",
       "        vertical-align: top;\n",
       "    }\n",
       "\n",
       "    .dataframe thead th {\n",
       "        text-align: right;\n",
       "    }\n",
       "</style>\n",
       "<table border=\"1\" class=\"dataframe\">\n",
       "  <thead>\n",
       "    <tr style=\"text-align: right;\">\n",
       "      <th></th>\n",
       "      <th>geometry</th>\n",
       "      <th>bbox_north</th>\n",
       "      <th>bbox_south</th>\n",
       "      <th>bbox_east</th>\n",
       "      <th>bbox_west</th>\n",
       "      <th>place_id</th>\n",
       "      <th>osm_type</th>\n",
       "      <th>osm_id</th>\n",
       "      <th>lat</th>\n",
       "      <th>lon</th>\n",
       "      <th>display_name</th>\n",
       "      <th>class</th>\n",
       "      <th>type</th>\n",
       "      <th>importance</th>\n",
       "    </tr>\n",
       "  </thead>\n",
       "  <tbody>\n",
       "    <tr>\n",
       "      <th>0</th>\n",
       "      <td>POLYGON ((90.42292 23.81387, 90.42304 23.81329...</td>\n",
       "      <td>23.814611</td>\n",
       "      <td>23.812387</td>\n",
       "      <td>90.42535</td>\n",
       "      <td>90.422924</td>\n",
       "      <td>227834775</td>\n",
       "      <td>way</td>\n",
       "      <td>586535435</td>\n",
       "      <td>23.813582</td>\n",
       "      <td>90.424069</td>\n",
       "      <td>Jamuna Future Park, KA-244, Al Haj Abdus Sobha...</td>\n",
       "      <td>shop</td>\n",
       "      <td>mall</td>\n",
       "      <td>0.739125</td>\n",
       "    </tr>\n",
       "  </tbody>\n",
       "</table>\n",
       "</div>"
      ],
      "text/plain": [
       "                                            geometry  bbox_north  bbox_south  \\\n",
       "0  POLYGON ((90.42292 23.81387, 90.42304 23.81329...   23.814611   23.812387   \n",
       "\n",
       "   bbox_east  bbox_west   place_id osm_type     osm_id        lat        lon  \\\n",
       "0   90.42535  90.422924  227834775      way  586535435  23.813582  90.424069   \n",
       "\n",
       "                                        display_name class  type  importance  \n",
       "0  Jamuna Future Park, KA-244, Al Haj Abdus Sobha...  shop  mall    0.739125  "
      ]
     },
     "execution_count": 10,
     "metadata": {},
     "output_type": "execute_result"
    }
   ],
   "source": [
    "area"
   ]
  },
  {
   "cell_type": "code",
   "execution_count": 11,
   "id": "acb30baf",
   "metadata": {
    "tags": []
   },
   "outputs": [
    {
     "data": {
      "text/html": [
       "<div>\n",
       "<style scoped>\n",
       "    .dataframe tbody tr th:only-of-type {\n",
       "        vertical-align: middle;\n",
       "    }\n",
       "\n",
       "    .dataframe tbody tr th {\n",
       "        vertical-align: top;\n",
       "    }\n",
       "\n",
       "    .dataframe thead th {\n",
       "        text-align: right;\n",
       "    }\n",
       "</style>\n",
       "<table border=\"1\" class=\"dataframe\">\n",
       "  <thead>\n",
       "    <tr style=\"text-align: right;\">\n",
       "      <th></th>\n",
       "      <th></th>\n",
       "      <th>geometry</th>\n",
       "      <th>nodes</th>\n",
       "      <th>addr:city</th>\n",
       "      <th>addr:housenumber</th>\n",
       "      <th>addr:postcode</th>\n",
       "      <th>addr:street</th>\n",
       "      <th>building</th>\n",
       "      <th>name</th>\n",
       "      <th>name:bn</th>\n",
       "      <th>shop</th>\n",
       "      <th>wikidata</th>\n",
       "    </tr>\n",
       "    <tr>\n",
       "      <th>element_type</th>\n",
       "      <th>osmid</th>\n",
       "      <th></th>\n",
       "      <th></th>\n",
       "      <th></th>\n",
       "      <th></th>\n",
       "      <th></th>\n",
       "      <th></th>\n",
       "      <th></th>\n",
       "      <th></th>\n",
       "      <th></th>\n",
       "      <th></th>\n",
       "      <th></th>\n",
       "    </tr>\n",
       "  </thead>\n",
       "  <tbody>\n",
       "    <tr>\n",
       "      <th>way</th>\n",
       "      <th>586535435</th>\n",
       "      <td>POLYGON ((90.42302 23.81422, 90.42491 23.81461...</td>\n",
       "      <td>[5603927022, 5603927021, 5603927020, 990452517...</td>\n",
       "      <td>Dhaka</td>\n",
       "      <td>KA-244</td>\n",
       "      <td>1229</td>\n",
       "      <td>KA-244</td>\n",
       "      <td>yes</td>\n",
       "      <td>Jamuna Future Park</td>\n",
       "      <td>যমুনা ফিউচার পার্ক</td>\n",
       "      <td>mall</td>\n",
       "      <td>Q6148303</td>\n",
       "    </tr>\n",
       "  </tbody>\n",
       "</table>\n",
       "</div>"
      ],
      "text/plain": [
       "                                                                 geometry  \\\n",
       "element_type osmid                                                          \n",
       "way          586535435  POLYGON ((90.42302 23.81422, 90.42491 23.81461...   \n",
       "\n",
       "                                                                    nodes  \\\n",
       "element_type osmid                                                          \n",
       "way          586535435  [5603927022, 5603927021, 5603927020, 990452517...   \n",
       "\n",
       "                       addr:city addr:housenumber addr:postcode addr:street  \\\n",
       "element_type osmid                                                            \n",
       "way          586535435     Dhaka           KA-244          1229      KA-244   \n",
       "\n",
       "                       building                name             name:bn  shop  \\\n",
       "element_type osmid                                                              \n",
       "way          586535435      yes  Jamuna Future Park  যমুনা ফিউচার পার্ক  mall   \n",
       "\n",
       "                        wikidata  \n",
       "element_type osmid                \n",
       "way          586535435  Q6148303  "
      ]
     },
     "execution_count": 11,
     "metadata": {},
     "output_type": "execute_result"
    }
   ],
   "source": [
    "data= {'building': True}   \n",
    "\n",
    "buildings = ox.geometries_from_place(place, data)\n",
    "buildings.head()"
   ]
  },
  {
   "cell_type": "code",
   "execution_count": 12,
   "id": "815e4e8b",
   "metadata": {
    "tags": []
   },
   "outputs": [
    {
     "data": {
      "text/plain": [
       "<AxesSubplot: >"
      ]
     },
     "execution_count": 12,
     "metadata": {},
     "output_type": "execute_result"
    },
    {
     "data": {
      "image/png": "[encoded data removed]",
      "text/plain": [
       "<Figure size 640x480 with 1 Axes>"
      ]
     },
     "metadata": {},
     "output_type": "display_data"
    }
   ],
   "source": [
    "buildings.plot()"
   ]
  },
  {
   "cell_type": "code",
   "execution_count": 14,
   "id": "3d37b856",
   "metadata": {
    "tags": []
   },
   "outputs": [
    {
     "data": {
      "text/html": [
       "\n",
       "<iframe width=\"600\" height=\"400\" frameborder=\"0\" scrolling=\"no\" \n",
       "marginheight=\"0\" marginwidth=\"0\" \n",
       "src=\"https://www.openstreetmap.org/export/embed.html?bbox=90.418911%2C23.810866%2C90.426464%2C23.816124&amp;layer=mapnik\" \n",
       "style=\"border: 1px solid grey\"></iframe><br/>\n",
       "\n",
       "<small>\n",
       "<a href=\"https://www.openstreetmap.org/#map=16/42.0110/-85.4734\">\n",
       "View Larger Map</a></small>\n"
      ],
      "text/plain": [
       "<IPython.core.display.HTML object>"
      ]
     },
     "execution_count": 14,
     "metadata": {},
     "output_type": "execute_result"
    }
   ],
   "source": [
    "#Let's visualize it!\n",
    "import IPython.display as display\n",
    "Jamuna_Future_Park= \"\"\"\n",
    "<iframe width=\"600\" height=\"400\" frameborder=\"0\" scrolling=\"no\" \n",
    "marginheight=\"0\" marginwidth=\"0\" \n",
    "src=\"https://www.openstreetmap.org/export/embed.html?bbox=90.418911%2C23.810866%2C90.426464%2C23.816124&amp;layer=mapnik\" \n",
    "style=\"border: 1px solid grey\"></iframe><br/>\n",
    "\n",
    "<small>\n",
    "<a href=\"https://www.openstreetmap.org/#map=16/42.0110/-85.4734\">\n",
    "View Larger Map</a></small>\n",
    "\"\"\"\n",
    "display.HTML(Jamuna_Future_Park)"
   ]
  },
  {
   "cell_type": "code",
   "execution_count": null,
   "id": "cfc55cf2",
   "metadata": {},
   "outputs": [],
   "source": []
  },
  {
   "cell_type": "code",
   "execution_count": null,
   "id": "d90c01da",
   "metadata": {},
   "outputs": [],
   "source": []
  }
 ],
 "metadata": {
  "kernelspec": {
   "display_name": "Python (ox)",
   "language": "python",
   "name": "ox"
  },
  "language_info": {
   "codemirror_mode": {
    "name": "ipython",
    "version": 3
   },
   "file_extension": ".py",
   "mimetype": "text/x-python",
   "name": "python",
   "nbconvert_exporter": "python",
   "pygments_lexer": "ipython3",
   "version": "3.10.9"
  }
 },
 "nbformat": 4,
 "nbformat_minor": 5
}
